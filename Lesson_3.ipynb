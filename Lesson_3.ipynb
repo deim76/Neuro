{
 "cells": [
  {
   "cell_type": "markdown",
   "metadata": {},
   "source": [
    "# Практическое задние к уроку 3 "
   ]
  },
  {
   "cell_type": "code",
   "execution_count": 1,
   "metadata": {},
   "outputs": [
    {
     "name": "stdout",
     "output_type": "stream",
     "text": [
      "2.0.0\n"
     ]
    }
   ],
   "source": [
    "from __future__ import absolute_import, division, print_function, unicode_literals\n",
    "\n",
    "# TensorFlow and tf.keras\n",
    "import tensorflow as tf\n",
    "from tensorflow import keras\n",
    "\n",
    "# Helper libraries\n",
    "import numpy as np\n",
    "import matplotlib.pyplot as plt\n",
    "\n",
    "print(tf.__version__)"
   ]
  },
  {
   "cell_type": "code",
   "execution_count": 2,
   "metadata": {},
   "outputs": [],
   "source": [
    "fashion_mnist = keras.datasets.fashion_mnist\n",
    "\n",
    "(train_images, train_labels), (test_images, test_labels) = fashion_mnist.load_data()"
   ]
  },
  {
   "cell_type": "code",
   "execution_count": 3,
   "metadata": {},
   "outputs": [],
   "source": [
    "class_names = ['T-shirt/top', 'Trouser', 'Pullover', 'Dress', 'Coat',\n",
    "               'Sandal', 'Shirt', 'Sneaker', 'Bag', 'Ankle boot']"
   ]
  },
  {
   "cell_type": "code",
   "execution_count": 5,
   "metadata": {},
   "outputs": [],
   "source": [
    "def plot_image(i, predictions_array, true_label, img):\n",
    "  predictions_array, true_label, img = predictions_array, true_label[i], img[i]\n",
    "  plt.grid(False)\n",
    "  plt.xticks([])\n",
    "  plt.yticks([])\n",
    "\n",
    "  plt.imshow(img, cmap=plt.cm.binary)\n",
    "\n",
    "  predicted_label = np.argmax(predictions_array)\n",
    "  if predicted_label == true_label:\n",
    "    color = 'blue'\n",
    "  else:\n",
    "    color = 'red'\n",
    "\n",
    "  plt.xlabel(\"{} {:2.0f}% ({})\".format(class_names[predicted_label],\n",
    "                                100*np.max(predictions_array),\n",
    "                                class_names[true_label]),\n",
    "                                color=color)\n",
    "\n",
    "def plot_value_array(i, predictions_array, true_label):\n",
    "  predictions_array, true_label = predictions_array, true_label[i]\n",
    "  plt.grid(False)\n",
    "  plt.xticks(range(10))\n",
    "  plt.yticks([])\n",
    "  thisplot = plt.bar(range(10), predictions_array, color=\"#777777\")\n",
    "  plt.ylim([0, 1])\n",
    "  predicted_label = np.argmax(predictions_array)\n",
    "\n",
    "  thisplot[predicted_label].set_color('red')\n",
    "  thisplot[true_label].set_color('blue')"
   ]
  },
  {
   "cell_type": "code",
   "execution_count": 6,
   "metadata": {},
   "outputs": [],
   "source": [
    "train_images = (train_images / 255.0)\n",
    "\n",
    "test_images = (test_images / 255.0)"
   ]
  },
  {
   "cell_type": "code",
   "execution_count": 7,
   "metadata": {},
   "outputs": [
    {
     "data": {
      "image/png": "[encoded data removed]",
      "text/plain": [
       "<Figure size 720x720 with 5 Axes>"
      ]
     },
     "metadata": {},
     "output_type": "display_data"
    }
   ],
   "source": [
    "plt.figure(figsize=(10,10))\n",
    "for i in range(5):\n",
    "    plt.subplot(5,5,i+1)\n",
    "    plt.xticks([])\n",
    "    plt.yticks([])\n",
    "    plt.grid(False)\n",
    "    plt.imshow(train_images[i], cmap=plt.cm.binary)\n",
    "    plt.xlabel(class_names[train_labels[i]])\n",
    "plt.show()"
   ]
  },
  {
   "cell_type": "code",
   "execution_count": 15,
   "metadata": {},
   "outputs": [
    {
     "name": "stdout",
     "output_type": "stream",
     "text": [
      "Train on 60000 samples\n",
      "Epoch 1/2\n",
      "60000/60000 [==============================] - 4s 74us/sample - loss: 0.4735 - accuracy: 0.8304\n",
      "Epoch 2/2\n",
      "60000/60000 [==============================] - 4s 70us/sample - loss: 0.3578 - accuracy: 0.8683\n",
      "10000/1 - 0s - loss: 0.2925 - accuracy: 0.8645\n",
      "Train on 60000 samples\n",
      "Epoch 1/3\n",
      "60000/60000 [==============================] - 4s 73us/sample - loss: 0.4692 - accuracy: 0.8299\n",
      "Epoch 2/3\n",
      "60000/60000 [==============================] - 5s 81us/sample - loss: 0.3577 - accuracy: 0.8664\n",
      "Epoch 3/3\n",
      "60000/60000 [==============================] - 4s 68us/sample - loss: 0.3230 - accuracy: 0.8820\n",
      "10000/1 - 0s - loss: 0.3116 - accuracy: 0.8677\n",
      "Train on 60000 samples\n",
      "Epoch 1/4\n",
      "60000/60000 [==============================] - 7s 110us/sample - loss: 0.4789 - accuracy: 0.8267\n",
      "Epoch 2/4\n",
      "60000/60000 [==============================] - 5s 79us/sample - loss: 0.3571 - accuracy: 0.8683\n",
      "Epoch 3/4\n",
      "60000/60000 [==============================] - 5s 78us/sample - loss: 0.3228 - accuracy: 0.8797\n",
      "Epoch 4/4\n",
      "60000/60000 [==============================] - 4s 72us/sample - loss: 0.3004 - accuracy: 0.8880\n",
      "10000/1 - 0s - loss: 0.3294 - accuracy: 0.8751\n",
      "Train on 60000 samples\n",
      "Epoch 1/5\n",
      "60000/60000 [==============================] - 6s 93us/sample - loss: 0.4726 - accuracy: 0.8292\n",
      "Epoch 2/5\n",
      "60000/60000 [==============================] - 4s 70us/sample - loss: 0.3603 - accuracy: 0.8680\n",
      "Epoch 3/5\n",
      "60000/60000 [==============================] - 4s 70us/sample - loss: 0.3223 - accuracy: 0.8806\n",
      "Epoch 4/5\n",
      "60000/60000 [==============================] - 5s 78us/sample - loss: 0.3007 - accuracy: 0.8884\n",
      "Epoch 5/5\n",
      "60000/60000 [==============================] - 5s 85us/sample - loss: 0.2828 - accuracy: 0.8935\n",
      "10000/1 - 0s - loss: 0.2330 - accuracy: 0.8753\n",
      "Train on 60000 samples\n",
      "Epoch 1/6\n",
      "60000/60000 [==============================] - 5s 84us/sample - loss: 0.4765 - accuracy: 0.8274\n",
      "Epoch 2/6\n",
      "60000/60000 [==============================] - 4s 73us/sample - loss: 0.3591 - accuracy: 0.8674\n",
      "Epoch 3/6\n",
      "60000/60000 [==============================] - 4s 66us/sample - loss: 0.3214 - accuracy: 0.8818\n",
      "Epoch 4/6\n",
      "60000/60000 [==============================] - 5s 78us/sample - loss: 0.2995 - accuracy: 0.8881\n",
      "Epoch 5/6\n",
      "60000/60000 [==============================] - 5s 85us/sample - loss: 0.2809 - accuracy: 0.8949\n",
      "Epoch 6/6\n",
      "60000/60000 [==============================] - 4s 72us/sample - loss: 0.2665 - accuracy: 0.8992\n",
      "10000/1 - 0s - loss: 0.2654 - accuracy: 0.8743\n",
      "Train on 60000 samples\n",
      "Epoch 1/7\n",
      "60000/60000 [==============================] - 5s 84us/sample - loss: 0.4745 - accuracy: 0.8284\n",
      "Epoch 2/7\n",
      "60000/60000 [==============================] - 5s 80us/sample - loss: 0.3567 - accuracy: 0.8692\n",
      "Epoch 3/7\n",
      "60000/60000 [==============================] - 5s 86us/sample - loss: 0.3224 - accuracy: 0.8810\n",
      "Epoch 4/7\n",
      "60000/60000 [==============================] - 5s 80us/sample - loss: 0.2999 - accuracy: 0.8878\n",
      "Epoch 5/7\n",
      "60000/60000 [==============================] - 5s 86us/sample - loss: 0.2831 - accuracy: 0.8947\n",
      "Epoch 6/7\n",
      "60000/60000 [==============================] - 5s 87us/sample - loss: 0.2677 - accuracy: 0.9010\n",
      "Epoch 7/7\n",
      "60000/60000 [==============================] - 5s 83us/sample - loss: 0.2558 - accuracy: 0.9032\n",
      "10000/1 - 0s - loss: 0.2761 - accuracy: 0.8803\n"
     ]
    },
    {
     "data": {
      "text/plain": [
       "[<matplotlib.lines.Line2D at 0x3b2cd808>]"
      ]
     },
     "execution_count": 15,
     "metadata": {},
     "output_type": "execute_result"
    },
    {
     "data": {
      "image/png": "[encoded data removed]",
      "text/plain": [
       "<Figure size 432x288 with 1 Axes>"
      ]
     },
     "metadata": {
      "needs_background": "light"
     },
     "output_type": "display_data"
    }
   ],
   "source": [
    "test_l=[]\n",
    "test_a=[]\n",
    "for epoch in range(2,8):\n",
    "    model = keras.Sequential([\n",
    "    keras.layers.Flatten(input_shape=(28, 28)),\n",
    "    keras.layers.Dense(200, activation='relu'),\n",
    "    keras.layers.Dense(250, activation='relu'),\n",
    "    keras.layers.Dense(10)])\n",
    "    model.compile(optimizer='adam',\n",
    "              loss=tf.keras.losses.SparseCategoricalCrossentropy(from_logits=True),\n",
    "              metrics=['accuracy'])\n",
    "    \n",
    "    model.fit(train_images, train_labels, epochs=epoch)\n",
    "    test_loss, test_acc = model.evaluate(test_images,  test_labels, verbose=2)\n",
    "    test_l.append(test_loss)\n",
    "    test_a.append(test_acc)\n",
    "plt.plot(range(2,8),test_a)    "
   ]
  },
  {
   "cell_type": "code",
   "execution_count": 17,
   "metadata": {},
   "outputs": [
    {
     "name": "stdout",
     "output_type": "stream",
     "text": [
      "Train on 60000 samples\n",
      "Epoch 1/5\n",
      "60000/60000 [==============================] - 7s 121us/sample - loss: 0.4908 - accuracy: 0.8233\n",
      "Epoch 2/5\n",
      "60000/60000 [==============================] - 5s 91us/sample - loss: 0.3690 - accuracy: 0.8636\n",
      "Epoch 3/5\n",
      "60000/60000 [==============================] - 6s 98us/sample - loss: 0.3325 - accuracy: 0.8772\n",
      "Epoch 4/5\n",
      "60000/60000 [==============================] - 5s 85us/sample - loss: 0.3102 - accuracy: 0.8839\n",
      "Epoch 5/5\n",
      "60000/60000 [==============================] - 6s 97us/sample - loss: 0.2938 - accuracy: 0.8906\n",
      "10000/1 - 0s - loss: 0.2810 - accuracy: 0.8688\n",
      "Train on 60000 samples\n",
      "Epoch 1/5\n",
      "60000/60000 [==============================] - 7s 121us/sample - loss: 0.4719 - accuracy: 0.8299\n",
      "Epoch 2/5\n",
      "60000/60000 [==============================] - 7s 112us/sample - loss: 0.3564 - accuracy: 0.8694\n",
      "Epoch 3/5\n",
      "60000/60000 [==============================] - 7s 123us/sample - loss: 0.3236 - accuracy: 0.8803\n",
      "Epoch 4/5\n",
      "60000/60000 [==============================] - 7s 113us/sample - loss: 0.3005 - accuracy: 0.8883\n",
      "Epoch 5/5\n",
      "60000/60000 [==============================] - 7s 116us/sample - loss: 0.2829 - accuracy: 0.8935\n",
      "10000/1 - 1s - loss: 0.2922 - accuracy: 0.8741\n",
      "Train on 60000 samples\n",
      "Epoch 1/5\n",
      "60000/60000 [==============================] - 9s 157us/sample - loss: 0.4695 - accuracy: 0.8295\n",
      "Epoch 2/5\n",
      "60000/60000 [==============================] - 10s 163us/sample - loss: 0.3541 - accuracy: 0.8688\n",
      "Epoch 3/5\n",
      "60000/60000 [==============================] - 9s 157us/sample - loss: 0.3203 - accuracy: 0.8821\n",
      "Epoch 4/5\n",
      "60000/60000 [==============================] - 9s 152us/sample - loss: 0.2964 - accuracy: 0.8897\n",
      "Epoch 5/5\n",
      "60000/60000 [==============================] - 8s 141us/sample - loss: 0.2775 - accuracy: 0.8952\n",
      "10000/1 - 1s - loss: 0.2139 - accuracy: 0.8818\n",
      "Train on 60000 samples\n",
      "Epoch 1/5\n",
      "60000/60000 [==============================] - 12s 193us/sample - loss: 0.4690 - accuracy: 0.8296\n",
      "Epoch 2/5\n",
      "60000/60000 [==============================] - 12s 192us/sample - loss: 0.3534 - accuracy: 0.8694\n",
      "Epoch 3/5\n",
      "60000/60000 [==============================] - 13s 208us/sample - loss: 0.3213 - accuracy: 0.8808\n",
      "Epoch 4/5\n",
      "60000/60000 [==============================] - 12s 197us/sample - loss: 0.2964 - accuracy: 0.8898\n",
      "Epoch 5/5\n",
      "60000/60000 [==============================] - 13s 219us/sample - loss: 0.2778 - accuracy: 0.8961\n",
      "10000/1 - 1s - loss: 0.2669 - accuracy: 0.8721\n"
     ]
    },
    {
     "data": {
      "text/plain": [
       "[<matplotlib.lines.Line2D at 0x3f45bb48>]"
      ]
     },
     "execution_count": 17,
     "metadata": {},
     "output_type": "execute_result"
    },
    {
     "data": {
      "image/png": "[encoded data removed]",
      "text/plain": [
       "<Figure size 432x288 with 1 Axes>"
      ]
     },
     "metadata": {
      "needs_background": "light"
     },
     "output_type": "display_data"
    }
   ],
   "source": [
    "test_l=[]\n",
    "test_a=[]\n",
    "for nr in [100,200,300,400]:\n",
    "    model = keras.Sequential([\n",
    "    keras.layers.Flatten(input_shape=(28, 28)),\n",
    "    keras.layers.Dense(nr, activation='relu'),\n",
    "    keras.layers.Dense(nr, activation='relu'),\n",
    "    keras.layers.Dense(10)])\n",
    "    model.compile(optimizer='adam',\n",
    "              loss=tf.keras.losses.SparseCategoricalCrossentropy(from_logits=True),\n",
    "              metrics=['accuracy'])\n",
    "    \n",
    "    model.fit(train_images, train_labels, epochs=5)\n",
    "    test_loss, test_acc = model.evaluate(test_images,  test_labels, verbose=2)\n",
    "    test_l.append(test_loss)\n",
    "    test_a.append(test_acc)\n",
    "plt.plot([100,200,300,400],test_a)    "
   ]
  },
  {
   "cell_type": "markdown",
   "metadata": {},
   "source": [
    "# 2. Вывод:\n",
    "### - Увеличение количества эпох позваляет увеличить точность но после некоторого значения точность повышается незначительство, по сравнению с временем обработки\n",
    "### - Увеличение числа нейронов для данного сета после 300 идет снижение точности\n",
    "### - Добавление слоев опять же при усложнении архитиктуры прирост точности незначительный по сравнению с ресурсоемкостью\n",
    "### - подбор функции активации (заметного влияния не было)"
   ]
  },
  {
   "cell_type": "markdown",
   "metadata": {},
   "source": [
    "## 3. \n",
    "### model.summary() сведения о модели. ,model.count_params()-число параметров модели, tuner.search() подбор гиперпараметров"
   ]
  },
  {
   "cell_type": "code",
   "execution_count": null,
   "metadata": {},
   "outputs": [],
   "source": []
  }
 ],
 "metadata": {
  "kernelspec": {
   "display_name": "Python 3",
   "language": "python",
   "name": "python3"
  },
  "language_info": {
   "codemirror_mode": {
    "name": "ipython",
    "version": 3
   },
   "file_extension": ".py",
   "mimetype": "text/x-python",
   "name": "python",
   "nbconvert_exporter": "python",
   "pygments_lexer": "ipython3",
   "version": "3.7.4"
  }
 },
 "nbformat": 4,
 "nbformat_minor": 2
}
