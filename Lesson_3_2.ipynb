{
 "cells": [
  {
   "cell_type": "markdown",
   "metadata": {},
   "source": [
    "# Практическое задание к уроку 3 часть 2"
   ]
  },
  {
   "cell_type": "code",
   "execution_count": 1,
   "metadata": {},
   "outputs": [],
   "source": [
    "import tensorflow as tf\n",
    "import tensorflow_datasets as tfds\n",
    "from tensorflow import keras\n",
    "import numpy as np\n"
   ]
  },
  {
   "cell_type": "code",
   "execution_count": 2,
   "metadata": {},
   "outputs": [
    {
     "name": "stdout",
     "output_type": "stream",
     "text": [
      "2.0.0\n",
      "TensorFlow 2.0 Hello World\r\n"
     ]
    }
   ],
   "source": [
    "print(tf.__version__)\n",
    "msg = tf.constant('TensorFlow 2.0 Hello World')\n",
    "tf.print(msg)"
   ]
  },
  {
   "cell_type": "code",
   "execution_count": 14,
   "metadata": {},
   "outputs": [
    {
     "name": "stdout",
     "output_type": "stream",
     "text": [
      "dict_keys(['test', 'train', 'unsupervised'])\n"
     ]
    },
    {
     "data": {
      "text/plain": [
       "{'test': <PrefetchDataset shapes: {label: (), text: ()}, types: {label: tf.int64, text: tf.string}>,\n",
       " 'train': <PrefetchDataset shapes: {label: (), text: ()}, types: {label: tf.int64, text: tf.string}>,\n",
       " 'unsupervised': <PrefetchDataset shapes: {label: (), text: ()}, types: {label: tf.int64, text: tf.string}>}"
      ]
     },
     "execution_count": 14,
     "metadata": {},
     "output_type": "execute_result"
    }
   ],
   "source": [
    "builder = tfds.builder('imdb_reviews')\n",
    "builder.download_and_prepare()\n",
    "\n",
    "# Default parameters: Returns the dict of tf.data.Dataset\n",
    "ds_all_dict = builder.as_dataset()\n",
    "assert isinstance(ds_all_dict, dict)\n",
    "print(ds_all_dict.keys())  # ==> ['test', 'train', 'unsupervised']\n",
    "\n",
    "assert isinstance(ds_all_dict['test'], tf.data.Dataset)\n",
    "ds_all_dict"
   ]
  },
  {
   "cell_type": "code",
   "execution_count": 3,
   "metadata": {},
   "outputs": [],
   "source": [
    "ds = tfds.load('imdb_reviews', split='train', shuffle_files=True)"
   ]
  },
  {
   "cell_type": "code",
   "execution_count": 28,
   "metadata": {},
   "outputs": [],
   "source": [
    "ds_test = tfds.load('imdb_reviews', split='test', shuffle_files=True)"
   ]
  },
  {
   "cell_type": "code",
   "execution_count": 29,
   "metadata": {},
   "outputs": [
    {
     "name": "stdout",
     "output_type": "stream",
     "text": [
      "tf.Tensor(b\"This was an absolutely terrible movie. Don't be lured in by Christopher Walken or Michael Ironside. Both are great actors, but this must simply be their worst role in history. Even their great acting could not redeem this movie's ridiculous storyline. This movie is an early nineties US propaganda piece. The most pathetic scenes were those when the Columbian rebels were making their cases for revolutions. Maria Conchita Alonso appeared phony, and her pseudo-love affair with Walken was nothing but a pathetic emotional plug in a movie that was devoid of any real meaning. I am disappointed that there are movies like this, ruining actor's like Christopher Walken's good name. I could barely sit through it.\", shape=(), dtype=string) tf.Tensor(0, shape=(), dtype=int64)\n",
      "tf.Tensor(b'I have been known to fall asleep during films, but this is usually due to a combination of things including, really tired, being warm and comfortable on the sette and having just eaten a lot. However on this occasion I fell asleep because the film was rubbish. The plot development was constant. Constantly slow and boring. Things seemed to happen, but with no explanation of what was causing them or why. I admit, I may have missed part of the film, but i watched the majority of it and everything just seemed to happen of its own accord without any real concern for anything else. I cant recommend this film at all.', shape=(), dtype=string) tf.Tensor(0, shape=(), dtype=int64)\n"
     ]
    }
   ],
   "source": [
    "for example in ds.take(2):\n",
    "    text, label = example[\"text\"], example[\"label\"]\n",
    "    print(text, label)"
   ]
  },
  {
   "cell_type": "code",
   "execution_count": 30,
   "metadata": {},
   "outputs": [],
   "source": [
    "tokenizer = tfds.features.text.Tokenizer()"
   ]
  },
  {
   "cell_type": "code",
   "execution_count": 31,
   "metadata": {},
   "outputs": [
    {
     "data": {
      "text/plain": [
       "93246"
      ]
     },
     "execution_count": 31,
     "metadata": {},
     "output_type": "execute_result"
    }
   ],
   "source": [
    "vocabulary_set = set()\n",
    "for  text_tensor in ds:\n",
    "    some_tokens = tokenizer.tokenize(text_tensor['text'].numpy())\n",
    "    vocabulary_set.update(some_tokens)\n",
    "    vocab_size = len(vocabulary_set)\n",
    "vocab_size"
   ]
  },
  {
   "cell_type": "code",
   "execution_count": null,
   "metadata": {},
   "outputs": [],
   "source": []
  },
  {
   "cell_type": "code",
   "execution_count": 32,
   "metadata": {},
   "outputs": [],
   "source": [
    "encoder = tfds.features.text.TokenTextEncoder(vocabulary_set)"
   ]
  },
  {
   "cell_type": "code",
   "execution_count": 33,
   "metadata": {},
   "outputs": [],
   "source": [
    "def encode(text_tensor, label):\n",
    "  encoded_text = encoder.encode(text_tensor.numpy())\n",
    "  return encoded_text, label\n",
    "\n",
    "def encode_map_fn(x ):\n",
    "  label=['label']\n",
    "  text=x['text']\n",
    "  # py_func doesn't set the shape of the returned tensors.\n",
    "  encoded_text, label = tf.py_function(encode, \n",
    "                                       inp=[text, label], \n",
    "                                       Tout=(tf.int64, tf.int64))\n",
    "\n",
    "  # `tf.data.Datasets` work best if all components have a shape set\n",
    "  #  so set the shapes manually: \n",
    "  encoded_text.set_shape([120])\n",
    "  label.set_shape([])\n",
    "  return label, encoded_text\n",
    "\n",
    "\n",
    "#all_encoded_data = ds_all_dict['train'].map(encode_map_fn)"
   ]
  },
  {
   "cell_type": "code",
   "execution_count": 9,
   "metadata": {},
   "outputs": [
    {
     "name": "stdout",
     "output_type": "stream",
     "text": [
      "Tensor(\"args_1:0\", shape=(), dtype=string) Tensor(\"EagerPyFunc:1\", dtype=int64)\n"
     ]
    }
   ],
   "source": [
    "def vectorize_text(tf_text):\n",
    "    #text = tf.expand_dims(text, -1)\n",
    "    encoded_text, label = tf.py_function(encode, \n",
    "                                       inp=[tf_text['text'], tf_text['label']], \n",
    "                                       Tout=(tf.int64, tf.int64))\n",
    "    print (tf_text['text'],label)\n",
    "    encoded_text.set_shape([None])\n",
    "    label.set_shape([])\n",
    "    return encoded_text,label\n",
    "\n",
    "train_ds = ds.map(lambda x :vectorize_text(x))\n"
   ]
  },
  {
   "cell_type": "code",
   "execution_count": 10,
   "metadata": {},
   "outputs": [
    {
     "data": {
      "text/plain": [
       "<MapDataset shapes: ((None,), ()), types: (tf.int64, tf.int64)>"
      ]
     },
     "execution_count": 10,
     "metadata": {},
     "output_type": "execute_result"
    }
   ],
   "source": [
    "train_ds"
   ]
  },
  {
   "cell_type": "code",
   "execution_count": 11,
   "metadata": {},
   "outputs": [
    {
     "name": "stdout",
     "output_type": "stream",
     "text": [
      "(<tf.Tensor: id=50099, shape=(121,), dtype=int64, numpy=\n",
      "array([ 6913, 21602, 27999, 28075, 57905, 92944, 81037,  3358, 46753,\n",
      "       69251, 47861,  3993, 16122, 77287, 25328, 45522, 73672, 73019,\n",
      "       73337, 70258,  8326, 56881, 31712,  3218, 61737, 46753,  6986,\n",
      "       48876,  9469, 47861, 16793, 25466,  6986, 70258, 46179, 48612,\n",
      "       54560, 57786, 31712, 92944, 65314, 46330, 22870,  6913, 92944,\n",
      "       89223, 27999, 18018, 36766, 35882, 46028, 31070, 58189, 58630,\n",
      "       11722,  8236, 17618,  5198, 73802,   559, 62582, 93665, 17618,\n",
      "       52194,  6986, 42457, 38879, 22085, 70812, 71848, 27763, 91241,\n",
      "        6716, 45439, 37612, 38176,  7000, 35595, 47964, 77287, 21602,\n",
      "       14747, 56881, 54251, 11722, 75544, 36528, 47861, 54251, 92944,\n",
      "       33342, 21602, 20699, 62571, 83977, 71516, 47176, 75097, 92635,\n",
      "       87611, 33342, 47482, 73337, 45534, 48778, 31712, 22498,  1685,\n",
      "       65314, 48778, 16122, 77287, 65314,  9587, 75620, 75097, 48612,\n",
      "       33400, 56594, 62710,  7046], dtype=int64)>, <tf.Tensor: id=50100, shape=(), dtype=int64, numpy=0>)\n",
      "(<tf.Tensor: id=50104, shape=(112,), dtype=int64, numpy=\n",
      "array([75097, 80318, 34678, 85427,   112, 84169, 11352, 54550, 86124,\n",
      "       56881, 31712, 89223, 64622, 47657,   112, 54251, 22446, 62571,\n",
      "        3328, 45883, 40992, 38890, 61995, 85744, 45439, 24481, 77430,\n",
      "         559, 17744, 45439, 33114, 18438, 54543, 54251, 80533, 10822,\n",
      "       77430, 31712, 18672, 75097, 23663, 11352, 17043,   559, 30085,\n",
      "       21602,  3138, 58189, 69563, 21987, 21602, 69819, 82174, 19674,\n",
      "       45439, 76994, 32219, 65389,   112, 79114, 56881, 47964, 34005,\n",
      "       23116, 62571, 51806, 21602,  6832, 92727, 25328, 31617, 75097,\n",
      "       35987, 75097, 87224, 80318, 26898, 85889, 62571,   559, 30085,\n",
      "       56881, 41842, 77687,   559, 73309, 62571,  7046, 45439,  9833,\n",
      "       18438, 65389,   112, 79114, 62571,  1732, 11653, 90147, 33817,\n",
      "       83977, 71516, 90752, 38879,  7912, 21080, 75097, 62992,   632,\n",
      "       31712, 30085,  3199, 89503], dtype=int64)>, <tf.Tensor: id=50105, shape=(), dtype=int64, numpy=0>)\n"
     ]
    }
   ],
   "source": [
    "\n",
    "for example in train_ds.take(2):\n",
    "    #text, label = example[\"text\"], example[\"label\"]\n",
    "    print(example)\n",
    "  "
   ]
  },
  {
   "cell_type": "code",
   "execution_count": null,
   "metadata": {},
   "outputs": [],
   "source": []
  },
  {
   "cell_type": "code",
   "execution_count": 12,
   "metadata": {},
   "outputs": [],
   "source": [
    "vocab_size += 1"
   ]
  },
  {
   "cell_type": "code",
   "execution_count": 13,
   "metadata": {},
   "outputs": [],
   "source": [
    "model = keras.Sequential([\n",
    "    tf.keras.layers.Embedding(vocab_size, 64),\n",
    "    tf.keras.layers.Bidirectional(tf.keras.layers.LSTM(64)),\n",
    "    tf.keras.layers.Dense(64, activation='relu'),\n",
    "  #  tf.keras.layers.Dense(64, activation='relu'),\n",
    "    tf.keras.layers.Dropout(0.2),\n",
    "    tf.keras.layers.Dense(1)\n",
    "])"
   ]
  },
  {
   "cell_type": "code",
   "execution_count": 14,
   "metadata": {},
   "outputs": [],
   "source": [
    "model.compile(optimizer='adam',\n",
    "              loss = 'binary_crossentropy',\n",
    "              metrics=['accuracy'])"
   ]
  },
  {
   "cell_type": "code",
   "execution_count": null,
   "metadata": {},
   "outputs": [],
   "source": []
  },
  {
   "cell_type": "code",
   "execution_count": 15,
   "metadata": {},
   "outputs": [
    {
     "name": "stdout",
     "output_type": "stream",
     "text": [
      "Epoch 1/2\n",
      "25000/25000 [==============================] - 3887s 155ms/step - loss: 7.7125 - accuracy: 0.4947\n",
      "Epoch 2/2\n",
      "25000/25000 [==============================] - 4254s 170ms/step - loss: 7.7122 - accuracy: 0.4947\n"
     ]
    },
    {
     "data": {
      "text/plain": [
       "<tensorflow.python.keras.callbacks.History at 0x28d449e8ac8>"
      ]
     },
     "execution_count": 15,
     "metadata": {},
     "output_type": "execute_result"
    }
   ],
   "source": [
    "model.fit(train_ds,epochs=2)"
   ]
  },
  {
   "cell_type": "code",
   "execution_count": 24,
   "metadata": {},
   "outputs": [
    {
     "name": "stdout",
     "output_type": "stream",
     "text": [
      "Model: \"sequential\"\n",
      "_________________________________________________________________\n",
      "Layer (type)                 Output Shape              Param #   \n",
      "=================================================================\n",
      "embedding (Embedding)        (None, None, 64)          6011520   \n",
      "_________________________________________________________________\n",
      "bidirectional (Bidirectional (None, 128)               66048     \n",
      "_________________________________________________________________\n",
      "dense (Dense)                (None, 64)                8256      \n",
      "_________________________________________________________________\n",
      "dropout (Dropout)            (None, 64)                0         \n",
      "_________________________________________________________________\n",
      "dense_1 (Dense)              (None, 1)                 65        \n",
      "=================================================================\n",
      "Total params: 6,085,889\n",
      "Trainable params: 6,085,889\n",
      "Non-trainable params: 0\n",
      "_________________________________________________________________\n"
     ]
    }
   ],
   "source": [
    "model.summary()"
   ]
  },
  {
   "cell_type": "code",
   "execution_count": 34,
   "metadata": {},
   "outputs": [
    {
     "name": "stdout",
     "output_type": "stream",
     "text": [
      "Tensor(\"args_1:0\", shape=(), dtype=string) Tensor(\"EagerPyFunc:1\", dtype=int64)\n"
     ]
    }
   ],
   "source": [
    "test_ds = ds_test.map(lambda x :vectorize_text(x))\n"
   ]
  },
  {
   "cell_type": "code",
   "execution_count": 35,
   "metadata": {},
   "outputs": [
    {
     "name": "stdout",
     "output_type": "stream",
     "text": [
      "25000/25000 [==============================] - 765s 31ms/step - loss: 7.7125 - accuracy: 0.4997\n"
     ]
    }
   ],
   "source": [
    "test_loss, test_acc = model.evaluate(test_ds)\n"
   ]
  },
  {
   "cell_type": "markdown",
   "metadata": {},
   "source": [
    "# Вывод\n",
    "### увеличить количество эпох на данный момент 2 явно мало. \n",
    "### Проварьировать количество нейронов "
   ]
  },
  {
   "cell_type": "code",
   "execution_count": null,
   "metadata": {},
   "outputs": [],
   "source": []
  }
 ],
 "metadata": {
  "kernelspec": {
   "display_name": "Python 3",
   "language": "python",
   "name": "python3"
  },
  "language_info": {
   "codemirror_mode": {
    "name": "ipython",
    "version": 3
   },
   "file_extension": ".py",
   "mimetype": "text/x-python",
   "name": "python",
   "nbconvert_exporter": "python",
   "pygments_lexer": "ipython3",
   "version": "3.7.7"
  }
 },
 "nbformat": 4,
 "nbformat_minor": 4
}
