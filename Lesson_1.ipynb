{
 "cells": [
  {
   "cell_type": "markdown",
   "metadata": {},
   "source": [
    "# Практическое задание к уроку 1 "
   ]
  },
  {
   "cell_type": "code",
   "execution_count": 38,
   "metadata": {},
   "outputs": [],
   "source": [
    "import numpy as np\n",
    "import pandas as pd\n",
    "import seaborn as sns\n",
    "import matplotlib.pyplot as plt\n",
    "\n",
    "import warnings\n",
    "warnings.simplefilter(action='ignore', category=FutureWarning)\n",
    "\n",
    "# sklearn здесь только, чтобы разделить выборку на тренировочную и тестовую\n",
    "from sklearn.model_selection import train_test_split"
   ]
  },
  {
   "cell_type": "code",
   "execution_count": 44,
   "metadata": {},
   "outputs": [],
   "source": [
    "def to_one_hot(Y):\n",
    "    n_col = np.amax(Y) + 1\n",
    "    binarized = np.zeros((len(Y), n_col))\n",
    "    for i in range(len(Y)):\n",
    "        binarized[i, Y[i]] = 1.\n",
    "    return binarized\n",
    "\n",
    "# преобразование массива в необходимый вид\n",
    "def from_one_hot(Y):\n",
    "    arr = np.zeros((len(Y), 1))\n",
    "\n",
    "    for i in range(len(Y)):\n",
    "        l = layer2[i]\n",
    "        for j in range(len(l)):\n",
    "            if(l[j] == 1):\n",
    "                arr[i] = j+1\n",
    "    return arr\n",
    "\n",
    "# сигмоида и ее производная\n",
    "def sigmoid(x):\n",
    "    return 1/(1+np.exp(-x))\n",
    "\n",
    "def sigmoid_deriv(x):\n",
    "    return sigmoid(x)*(1 - sigmoid(x))\n",
    "\n",
    "# нормализация массива\n",
    "def normalize(X, axis=-1, order=2):\n",
    "    l2 = np.atleast_1d(np.linalg.norm(X, order, axis))\n",
    "    l2[l2 == 0] = 1\n",
    "    return X / np.expand_dims(l2, axis)\n",
    "\n",
    "iris_data = pd.read_csv(\"Iris.csv\")\n",
    "iris_data['Species'].replace(['Iris-setosa', 'Iris-virginica', 'Iris-versicolor'], [0, 1, 2], inplace=True)\n",
    "\n",
    "columns = ['SepalLengthCm', 'SepalWidthCm', 'PetalLengthCm', 'PetalWidthCm']\n",
    "x = pd.DataFrame(iris_data, columns=columns)\n",
    "x = normalize(x.as_matrix())\n",
    "\n",
    "# формирование выходных данных(результатов)\n",
    "columns = ['Species']\n",
    "y = pd.DataFrame(iris_data, columns=columns)\n",
    "y = y.as_matrix()\n",
    "y = y.flatten()\n",
    "y = to_one_hot(y)\n",
    "\n",
    "\n",
    "X_train, X_test, y_train, y_test = train_test_split(x, y, test_size=0.33)"
   ]
  },
  {
   "cell_type": "code",
   "execution_count": 40,
   "metadata": {},
   "outputs": [],
   "source": [
    "# репрезентация данных в виде графиков\n",
    "#g = sns.pairplot(iris_data.drop(\"Id\", axis=1), hue=\"Species\")\n",
    "# plt.show() # расскоментируйте, чтобы посмотреть "
   ]
  },
  {
   "cell_type": "code",
   "execution_count": 45,
   "metadata": {},
   "outputs": [],
   "source": [
    "### Шаг 3. Обученние нейронной сети\n",
    "\n",
    "def lern_ns(param):\n",
    "    w0 = 2*np.random.random((4, param['intern'])) - 1 # для входного слоя   \n",
    "    w1 = 2*np.random.random((param['intern'], 3)) - 1 # для внутреннего слоя \n",
    "\n",
    "    # скорость обучения (learning rate)\n",
    "    n = param['speed_lern']\n",
    "\n",
    "    # массив для ошибок, чтобы потом построить график\n",
    "    errors = []\n",
    "\n",
    "    # процесс обучения\n",
    "    for i in range(param['iteration']):\n",
    "\n",
    "        # прямое распространение(feed forward)\n",
    "        layer0 = X_train\n",
    "        layer1 = sigmoid(np.dot(layer0, w0))\n",
    "        layer2 = sigmoid(np.dot(layer1, w1))\n",
    "\n",
    "        # обратное распространение(back propagation) с использованием градиентного спуска\n",
    "\n",
    "        layer2_error =  y_train - layer2\n",
    "        layer2_delta = layer2_error * sigmoid_deriv(layer2)\n",
    "\n",
    "        layer1_error = layer2_delta.dot(w1.T)\n",
    "        layer1_delta = layer1_error * sigmoid_deriv(layer1)\n",
    "\n",
    "        w1 += layer1.T.dot(layer2_delta) * n\n",
    "        w0 += layer0.T.dot(layer1_delta) * n\n",
    "\n",
    "        error = np.mean(np.abs(layer2_error))\n",
    "        errors.append(error)\n",
    "        accuracy = (1 - error) * 100\n",
    "\n",
    "    return(round(accuracy,2))"
   ]
  },
  {
   "cell_type": "code",
   "execution_count": 46,
   "metadata": {},
   "outputs": [],
   "source": [
    "def test(intern,speed_lern,iteration,test_iteration,p):\n",
    "    result=[]\n",
    "    for i in test_iteration:\n",
    "        if p=='intern':\n",
    "            param={'intern':i,'speed_lern':speed_lern,'iteration':iteration}    \n",
    "        elif p=='speed_lern':\n",
    "            param={'intern':intern,'speed_lern':i,'iteration':iteration} \n",
    "        else:  \n",
    "            param={'intern':intern,'speed_lern':speed_lern,'iteration':i}         \n",
    "\n",
    "        answer=lern_ns(param)\n",
    "        result.append(answer)\n",
    "       # print(f'Точность нейронной сети при парам {param}={i} : {answer}')\n",
    "    plt.plot(test_iteration,result)  \n",
    "    plt.xlabel(p)\n",
    "    plt.ylabel('Точность')\n",
    "    plt.show()   "
   ]
  },
  {
   "cell_type": "markdown",
   "metadata": {},
   "source": [
    "Зависимость точности от параметров ('intern' - кол во нейронов во втором слое, 'speed_lern'- скорость обучения, 'iteration'- кол во итераций  )"
   ]
  },
  {
   "cell_type": "code",
   "execution_count": 47,
   "metadata": {},
   "outputs": [
    {
     "data": {
      "image/png": "[encoded data removed]",
      "text/plain": [
       "<Figure size 432x288 with 1 Axes>"
      ]
     },
     "metadata": {
      "needs_background": "light"
     },
     "output_type": "display_data"
    },
    {
     "data": {
      "image/png": "[encoded data removed]",
      "text/plain": [
       "<Figure size 432x288 with 1 Axes>"
      ]
     },
     "metadata": {
      "needs_background": "light"
     },
     "output_type": "display_data"
    },
    {
     "data": {
      "image/png": "[encoded data removed]",
      "text/plain": [
       "<Figure size 432x288 with 1 Axes>"
      ]
     },
     "metadata": {
      "needs_background": "light"
     },
     "output_type": "display_data"
    }
   ],
   "source": [
    "test(0,0.1,100000,range(2,10),'intern')\n",
    "test(4,0,100000,[0.01,0.05,0.1,0.15,0.2,0.5],'speed_lern')\n",
    "test(4,0.1,0,range(1000,200000,10000),'iteration')"
   ]
  },
  {
   "cell_type": "code",
   "execution_count": 43,
   "metadata": {},
   "outputs": [
    {
     "name": "stdout",
     "output_type": "stream",
     "text": [
      "Точность нейронной сети при парам {'intern': 8, 'speed_lern': 0.01, 'iteration': 100000} : 98.56\n"
     ]
    }
   ],
   "source": [
    "param={'intern':8,'speed_lern':0.01,'iteration':100000}  \n",
    "print(f'Точность нейронной сети при парам {param} : {lern_ns(param)}')"
   ]
  },
  {
   "cell_type": "markdown",
   "metadata": {},
   "source": [
    "Добавим еще один слой"
   ]
  },
  {
   "cell_type": "code",
   "execution_count": 42,
   "metadata": {},
   "outputs": [
    {
     "name": "stdout",
     "output_type": "stream",
     "text": [
      "Точность нейронной сети 99.99%\n"
     ]
    }
   ],
   "source": [
    "# трехслойная нейронный сети для классификации цветков ириса\n",
    "\n",
    "### Шаг 3. Обученние нейронной сети\n",
    "# присваевание случайных весов\n",
    "w0 = 2*np.random.random((4, 8)) - 1 # для входного слоя   - 4 входа, 3 выхода\n",
    "w1 = 2*np.random.random((8, 10)) - 1 # для внутреннего слоя - 5 входов, 3 выхода\n",
    "w2 = 2*np.random.random((10, 3)) - 1 \n",
    "\n",
    "# скорость обучения (learning rate)\n",
    "n = 0.1\n",
    "\n",
    "# массив для ошибок, чтобы потом построить график\n",
    "errors = []\n",
    "\n",
    "# процесс обучения\n",
    "for i in range(100000):\n",
    "\n",
    "    # прямое распространение(feed forward)\n",
    "    layer0 = X_train\n",
    "    layer1 = sigmoid(np.dot(layer0, w0))\n",
    "    layer2 = sigmoid(np.dot(layer1, w1))\n",
    "    layer3 = sigmoid(np.dot(layer2, w2))\n",
    "\n",
    "    # обратное распространение(back propagation) с использованием градиентного спуска\n",
    "    layer3_error = y_train - layer3\n",
    "    layer3_delta = layer3_error * sigmoid_deriv(layer3)\n",
    "   \n",
    "    layer2_error = layer3_delta.dot(w2.T)\n",
    "    layer2_delta = layer2_error * sigmoid_deriv(layer2)\n",
    "    \n",
    "    layer1_error = layer2_delta.dot(w1.T)\n",
    "    layer1_delta = layer1_error * sigmoid_deriv(layer1)\n",
    "    \n",
    "    w2 += layer2.T.dot(layer3_delta) * n\n",
    "    w1 += layer1.T.dot(layer2_delta) * n\n",
    "    w0 += layer0.T.dot(layer1_delta) * n\n",
    "    \n",
    "    error = np.mean(np.abs(layer3_error))\n",
    "    errors.append(error)\n",
    "    accuracy = (1 - error) * 100\n",
    "\n",
    "      \n",
    "print(\"Точность нейронной сети \" + str(round(accuracy,2)) + \"%\")"
   ]
  },
  {
   "cell_type": "markdown",
   "metadata": {},
   "source": [
    "### Вывод \n",
    "1. При изменении параметров влияние оказывает количество нейронов в о втором слое если количество меньше количества входящих. Дальнейшее увеличение повышает точность, но не силно значимо.\n",
    "\n",
    "2. Cкорость обучения при сильно высокой точность сети падает. т.к проскакиваем минимум\n",
    "\n",
    "3. количество итераций  при сильно малом количестве можно просто не достигнуть минимума \n",
    "2 и 3 параметр влияет на затратность по обучению сети\n",
    "\n",
    "4. Третий слой добавил точность при условии увеличения числа нейронов по сравнению со вторым слоем (для данного дата сета можно сказать что 3 слой детализирует признаковое пространство второго слоя) \n"
   ]
  },
  {
   "cell_type": "code",
   "execution_count": null,
   "metadata": {},
   "outputs": [],
   "source": []
  }
 ],
 "metadata": {
  "kernelspec": {
   "display_name": "Python 3",
   "language": "python",
   "name": "python3"
  },
  "language_info": {
   "codemirror_mode": {
    "name": "ipython",
    "version": 3
   },
   "file_extension": ".py",
   "mimetype": "text/x-python",
   "name": "python",
   "nbconvert_exporter": "python",
   "pygments_lexer": "ipython3",
   "version": "3.7.4"
  }
 },
 "nbformat": 4,
 "nbformat_minor": 2
}
